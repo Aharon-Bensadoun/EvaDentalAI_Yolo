{
  "cells": [
    {
      "cell_type": "markdown",
      "metadata": {},
      "source": [
        "# 🦷 EvaDentalAI + DENTEX sur Google Colab\n",
        "\n",
        "**Détection d'anomalies dentaires avec YOLO et le dataset DENTEX**\n",
        "\n",
        "Ce notebook vous permet d'entraîner et tester un modèle de détection d'anomalies dentaires directement sur Google Colab, en utilisant le dataset DENTEX de radiographies panoramiques dentaires.\n",
        "\n",
        "## 🎯 Objectifs\n",
        "- Télécharger le dataset DENTEX depuis Hugging Face\n",
        "- Entraîner un modèle YOLO sur des données cliniques réelles\n",
        "- Tester le modèle sur vos propres radiographies\n",
        "- Exporter le modèle pour utilisation locale\n",
        "\n",
        "## 📊 Dataset DENTEX\n",
        "- **Source**: [Hugging Face DENTEX](https://huggingface.co/datasets/ibrahimhamamci/DENTEX)\n",
        "- **Type**: Radiographies panoramiques dentaires\n",
        "- **Classes**: Caries, lésions périapicales, dents incluses\n",
        "- **Licence**: CC-BY-NC-SA-4.0\n"
      ]
    },
    {
      "cell_type": "markdown",
      "metadata": {},
      "source": [
        "## 🚀 Configuration Initiale\n",
        "\n",
        "### 1. Activer le GPU\n",
        "Allez dans `Runtime > Change runtime type > GPU` et sélectionnez un GPU (T4, V100, ou A100 si disponible).\n"
      ]
    },
    {
      "cell_type": "code",
      "execution_count": null,
      "metadata": {},
      "outputs": [],
      "source": [
        "# Installation des dépendances pour DENTEX\n",
        "!pip install ultralytics==8.0.196\n",
        "!pip install datasets==2.14.0\n",
        "!pip install huggingface-hub==0.16.4\n",
        "!pip install fastapi uvicorn python-multipart\n",
        "!pip install opencv-python pillow matplotlib seaborn\n",
        "!pip install torch torchvision torchaudio --index-url https://download.pytorch.org/whl/cu118\n",
        "\n",
        "print(\"✅ Dépendances installées!\")\n"
      ]
    },
    {
      "cell_type": "code",
      "execution_count": null,
      "metadata": {},
      "outputs": [],
      "source": [
        "# Vérification du GPU\n",
        "import torch\n",
        "import subprocess\n",
        "\n",
        "print(\"🔍 Vérification du système...\")\n",
        "print(f\"CUDA disponible: {torch.cuda.is_available()}\")\n",
        "if torch.cuda.is_available():\n",
        "    print(f\"GPU: {torch.cuda.get_device_name(0)}\")\n",
        "    print(f\"Mémoire GPU: {torch.cuda.get_device_properties(0).total_memory / 1e9:.1f} GB\")\n",
        "else:\n",
        "    print(\"⚠️  GPU non disponible, l'entraînement sera plus lent\")\n",
        "\n",
        "# Vérifier l'espace disque\n",
        "result = subprocess.run(['df', '-h', '/content'], capture_output=True, text=True)\n",
        "print(f\"\\n💾 Espace disque disponible:\")\n",
        "print(result.stdout.split('\\n')[1])\n"
      ]
    },
    {
      "cell_type": "markdown",
      "metadata": {},
      "source": [
        "## 📥 Téléchargement du Projet\n"
      ]
    },
    {
      "cell_type": "code",
      "execution_count": null,
      "metadata": {},
      "outputs": [],
      "source": [
        "# Cloner le projet EvaDentalAI\n",
        "!git clone https://github.com/votre-username/EvaDentalAI_Yolo.git\n",
        "%cd EvaDentalAI_Yolo\n",
        "\n",
        "# Vérifier la structure\n",
        "print(\"📁 Structure du projet:\")\n",
        "!ls -la\n",
        "print(\"\\n📁 Scripts disponibles:\")\n",
        "!ls -la scripts/\n"
      ]
    },
    {
      "cell_type": "markdown",
      "metadata": {},
      "source": [
        "## 📊 Téléchargement du Dataset DENTEX\n",
        "env"
      ]
    },
    {
      "cell_type": "code",
      "execution_count": null,
      "metadata": {},
      "outputs": [],
      "source": [
        "# Télécharger et préparer le dataset DENTEX\n",
        "print(\"📥 Téléchargement du dataset DENTEX...\")\n",
        "print(\"Source: https://huggingface.co/datasets/ibrahimhamamci/DENTEX\")\n",
        "print(\"Licence: CC-BY-NC-SA-4.0\")\n",
        "print(\"\\n⏳ Cela peut prendre quelques minutes...\")\n",
        "\n",
        "!python scripts/download_dentex_dataset.py\n",
        "\n",
        "print(\"\\n✅ Dataset DENTEX téléchargé et préparé!\")\n"
      ]
    },
    {
      "cell_type": "code",
      "execution_count": null,
      "metadata": {},
      "outputs": [],
      "source": [
        "# Vérifier la structure du dataset DENTEX\n",
        "print(\"📊 Structure du dataset DENTEX:\")\n",
        "!ls -la data/dentex/\n",
        "print(\"\\n📁 Images d'entraînement:\")\n",
        "!ls data/dentex/train/images/ | head -5\n",
        "print(\"\\n📁 Images de validation:\")\n",
        "!ls data/dentex/val/images/ | head -5\n",
        "print(\"\\n📁 Images de test:\")\n",
        "!ls data/dentex/test/images/ | head -5\n",
        "\n",
        "# Afficher la configuration YOLO\n",
        "print(\"\\n⚙️ Configuration YOLO:\")\n",
        "!cat data/dentex/data.yaml\n"
      ]
    },
    {
      "cell_type": "markdown",
      "metadata": {},
      "source": [
        "## 🏋️ Entraînement du Modèle\n"
      ]
    },
    {
      "cell_type": "code",
      "execution_count": null,
      "metadata": {},
      "outputs": [],
      "source": [
        "# Entraînement avec DENTEX\n",
        "print(\"🏋️ Entraînement du modèle YOLO avec DENTEX...\")\n",
        "print(\"Configuration: data/dentex/data.yaml\")\n",
        "print(\"Classes: caries, lésions, dents incluses\")\n",
        "print(\"\\n⏳ L'entraînement peut prendre 30-60 minutes...\")\n",
        "\n",
        "!python scripts/train_model.py --config data/dentex/data.yaml --model yolov8s.pt --epochs 50 --batch-size 16 --img-size 640 --device cuda --patience 15 --save-period 10\n",
        "\n",
        "print(\"\\n✅ Entraînement terminé!\")\n"
      ]
    }
  ],
  "metadata": {
    "language_info": {
      "name": "python"
    }
  },
  "nbformat": 4,
  "nbformat_minor": 2
}
